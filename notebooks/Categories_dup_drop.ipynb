{
 "cells": [
  {
   "cell_type": "code",
   "execution_count": 5,
   "metadata": {},
   "outputs": [],
   "source": [
    "import pandas as pd"
   ]
  },
  {
   "cell_type": "code",
   "execution_count": 6,
   "metadata": {},
   "outputs": [
    {
     "data": {
      "text/html": [
       "<div>\n",
       "<style scoped>\n",
       "    .dataframe tbody tr th:only-of-type {\n",
       "        vertical-align: middle;\n",
       "    }\n",
       "\n",
       "    .dataframe tbody tr th {\n",
       "        vertical-align: top;\n",
       "    }\n",
       "\n",
       "    .dataframe thead th {\n",
       "        text-align: right;\n",
       "    }\n",
       "</style>\n",
       "<table border=\"1\" class=\"dataframe\">\n",
       "  <thead>\n",
       "    <tr style=\"text-align: right;\">\n",
       "      <th></th>\n",
       "      <th>id</th>\n",
       "      <th>categories</th>\n",
       "    </tr>\n",
       "  </thead>\n",
       "  <tbody>\n",
       "    <tr>\n",
       "      <th>0</th>\n",
       "      <td>174430</td>\n",
       "      <td>Economic</td>\n",
       "    </tr>\n",
       "    <tr>\n",
       "      <th>1</th>\n",
       "      <td>174430</td>\n",
       "      <td>Negotiation</td>\n",
       "    </tr>\n",
       "    <tr>\n",
       "      <th>2</th>\n",
       "      <td>174430</td>\n",
       "      <td>Political</td>\n",
       "    </tr>\n",
       "    <tr>\n",
       "      <th>3</th>\n",
       "      <td>174430</td>\n",
       "      <td>Abstract Strategy</td>\n",
       "    </tr>\n",
       "    <tr>\n",
       "      <th>4</th>\n",
       "      <td>174430</td>\n",
       "      <td>Ancient</td>\n",
       "    </tr>\n",
       "    <tr>\n",
       "      <th>...</th>\n",
       "      <td>...</td>\n",
       "      <td>...</td>\n",
       "    </tr>\n",
       "    <tr>\n",
       "      <th>9455</th>\n",
       "      <td>257518</td>\n",
       "      <td>Economic</td>\n",
       "    </tr>\n",
       "    <tr>\n",
       "      <th>9456</th>\n",
       "      <td>257518</td>\n",
       "      <td>Negotiation</td>\n",
       "    </tr>\n",
       "    <tr>\n",
       "      <th>9457</th>\n",
       "      <td>257518</td>\n",
       "      <td>Political</td>\n",
       "    </tr>\n",
       "    <tr>\n",
       "      <th>9458</th>\n",
       "      <td>257518</td>\n",
       "      <td>Civilization</td>\n",
       "    </tr>\n",
       "    <tr>\n",
       "      <th>9459</th>\n",
       "      <td>257518</td>\n",
       "      <td>Fantasy</td>\n",
       "    </tr>\n",
       "  </tbody>\n",
       "</table>\n",
       "<p>9460 rows × 2 columns</p>\n",
       "</div>"
      ],
      "text/plain": [
       "          id         categories\n",
       "0     174430           Economic\n",
       "1     174430        Negotiation\n",
       "2     174430          Political\n",
       "3     174430  Abstract Strategy\n",
       "4     174430            Ancient\n",
       "...      ...                ...\n",
       "9455  257518           Economic\n",
       "9456  257518        Negotiation\n",
       "9457  257518          Political\n",
       "9458  257518       Civilization\n",
       "9459  257518            Fantasy\n",
       "\n",
       "[9460 rows x 2 columns]"
      ]
     },
     "execution_count": 6,
     "metadata": {},
     "output_type": "execute_result"
    }
   ],
   "source": [
    "cat_original = pd.read_csv('bgg_categories.csv')\n",
    "cat_original"
   ]
  },
  {
   "cell_type": "code",
   "execution_count": 10,
   "metadata": {},
   "outputs": [],
   "source": [
    "categories_dropped=cat_original.drop_duplicates()"
   ]
  },
  {
   "cell_type": "code",
   "execution_count": 12,
   "metadata": {},
   "outputs": [],
   "source": [
    "categories_dropped.to_csv('categories_dropped.csv')"
   ]
  },
  {
   "cell_type": "code",
   "execution_count": 13,
   "metadata": {},
   "outputs": [
    {
     "name": "stderr",
     "output_type": "stream",
     "text": [
      "<ipython-input-13-5a4d37c7872e>:1: SettingWithCopyWarning: \n",
      "A value is trying to be set on a copy of a slice from a DataFrame.\n",
      "Try using .loc[row_indexer,col_indexer] = value instead\n",
      "\n",
      "See the caveats in the documentation: https://pandas.pydata.org/pandas-docs/stable/user_guide/indexing.html#returning-a-view-versus-a-copy\n",
      "  categories_dropped['categories'] = categories_dropped.groupby(['id'])['categories'].transform(lambda x : ','.join(x))\n"
     ]
    }
   ],
   "source": [
    "categories_dropped['categories'] = categories_dropped.groupby(['id'])['categories'].transform(lambda x : ','.join(x))"
   ]
  },
  {
   "cell_type": "code",
   "execution_count": 15,
   "metadata": {},
   "outputs": [
    {
     "data": {
      "text/html": [
       "<div>\n",
       "<style scoped>\n",
       "    .dataframe tbody tr th:only-of-type {\n",
       "        vertical-align: middle;\n",
       "    }\n",
       "\n",
       "    .dataframe tbody tr th {\n",
       "        vertical-align: top;\n",
       "    }\n",
       "\n",
       "    .dataframe thead th {\n",
       "        text-align: right;\n",
       "    }\n",
       "</style>\n",
       "<table border=\"1\" class=\"dataframe\">\n",
       "  <thead>\n",
       "    <tr style=\"text-align: right;\">\n",
       "      <th></th>\n",
       "      <th>id</th>\n",
       "      <th>categories</th>\n",
       "    </tr>\n",
       "  </thead>\n",
       "  <tbody>\n",
       "    <tr>\n",
       "      <th>0</th>\n",
       "      <td>174430</td>\n",
       "      <td>Economic,Negotiation,Political,Abstract Strate...</td>\n",
       "    </tr>\n",
       "    <tr>\n",
       "      <th>8</th>\n",
       "      <td>161936</td>\n",
       "      <td>Economic,Negotiation,Political,Civilization,Na...</td>\n",
       "    </tr>\n",
       "    <tr>\n",
       "      <th>21</th>\n",
       "      <td>224517</td>\n",
       "      <td>Card Game,Fantasy,Ancient,Economic,Territory B...</td>\n",
       "    </tr>\n",
       "    <tr>\n",
       "      <th>32</th>\n",
       "      <td>167791</td>\n",
       "      <td>Economic,Negotiation,Political,Civilization,Na...</td>\n",
       "    </tr>\n",
       "    <tr>\n",
       "      <th>43</th>\n",
       "      <td>291457</td>\n",
       "      <td>Card Game,Fantasy,Exploration,Economic,Negotia...</td>\n",
       "    </tr>\n",
       "    <tr>\n",
       "      <th>...</th>\n",
       "      <td>...</td>\n",
       "      <td>...</td>\n",
       "    </tr>\n",
       "    <tr>\n",
       "      <th>9409</th>\n",
       "      <td>204836</td>\n",
       "      <td>Card Game,Fantasy,Ancient,Civilization,Abstrac...</td>\n",
       "    </tr>\n",
       "    <tr>\n",
       "      <th>9418</th>\n",
       "      <td>141423</td>\n",
       "      <td>Economic,Negotiation,Political,Ancient,Card Ga...</td>\n",
       "    </tr>\n",
       "    <tr>\n",
       "      <th>9430</th>\n",
       "      <td>244049</td>\n",
       "      <td>Card Game,Fantasy,Ancient,Exploration</td>\n",
       "    </tr>\n",
       "    <tr>\n",
       "      <th>9436</th>\n",
       "      <td>284818</td>\n",
       "      <td>Card Game,Fantasy,Civilization,Ancient,Economi...</td>\n",
       "    </tr>\n",
       "    <tr>\n",
       "      <th>9448</th>\n",
       "      <td>257518</td>\n",
       "      <td>Card Game,Fantasy,Economic,Territory Building,...</td>\n",
       "    </tr>\n",
       "  </tbody>\n",
       "</table>\n",
       "<p>1000 rows × 2 columns</p>\n",
       "</div>"
      ],
      "text/plain": [
       "          id                                         categories\n",
       "0     174430  Economic,Negotiation,Political,Abstract Strate...\n",
       "8     161936  Economic,Negotiation,Political,Civilization,Na...\n",
       "21    224517  Card Game,Fantasy,Ancient,Economic,Territory B...\n",
       "32    167791  Economic,Negotiation,Political,Civilization,Na...\n",
       "43    291457  Card Game,Fantasy,Exploration,Economic,Negotia...\n",
       "...      ...                                                ...\n",
       "9409  204836  Card Game,Fantasy,Ancient,Civilization,Abstrac...\n",
       "9418  141423  Economic,Negotiation,Political,Ancient,Card Ga...\n",
       "9430  244049              Card Game,Fantasy,Ancient,Exploration\n",
       "9436  284818  Card Game,Fantasy,Civilization,Ancient,Economi...\n",
       "9448  257518  Card Game,Fantasy,Economic,Territory Building,...\n",
       "\n",
       "[1000 rows x 2 columns]"
      ]
     },
     "execution_count": 15,
     "metadata": {},
     "output_type": "execute_result"
    }
   ],
   "source": [
    "categories = categories_dropped.drop_duplicates()\n",
    "categories"
   ]
  },
  {
   "cell_type": "code",
   "execution_count": 16,
   "metadata": {},
   "outputs": [],
   "source": [
    "categories.to_csv('categories_final.csv')"
   ]
  },
  {
   "cell_type": "code",
   "execution_count": null,
   "metadata": {},
   "outputs": [],
   "source": []
  }
 ],
 "metadata": {
  "kernelspec": {
   "display_name": "Python 3",
   "language": "python",
   "name": "python3"
  },
  "language_info": {
   "codemirror_mode": {
    "name": "ipython",
    "version": 3
   },
   "file_extension": ".py",
   "mimetype": "text/x-python",
   "name": "python",
   "nbconvert_exporter": "python",
   "pygments_lexer": "ipython3",
   "version": "3.8.5"
  }
 },
 "nbformat": 4,
 "nbformat_minor": 4
}

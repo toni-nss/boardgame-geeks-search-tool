{
 "cells": [
  {
   "cell_type": "code",
   "execution_count": 1,
   "metadata": {},
   "outputs": [],
   "source": [
    "import datetime, requests, time\n",
    "import xml.etree.ElementTree as ET\n",
    "import pandas as pd"
   ]
  },
  {
   "cell_type": "code",
   "execution_count": 2,
   "metadata": {},
   "outputs": [],
   "source": [
    "# api calls\n",
    "apiBase = 'https://www.boardgamegeek.com/xmlapi2/'\n",
    "gameInfo = 'thing?id='\n",
    "userInfo = 'user?name='\n",
    "playsInfoByUser = 'plays?username='\n",
    "playsInfoByGame = 'plays?id='"
   ]
  },
  {
   "cell_type": "code",
   "execution_count": 44,
   "metadata": {},
   "outputs": [],
   "source": [
    "# retrieve API call\n",
    "def get_game_metadata(gameIdList):\n",
    "    \"\"\"supply a list of game id's you want to retrive game metadata on.  Output is XML.\"\"\"\n",
    "    stringify = ','.join(gameIdList)\n",
    "    response = requests.get(f'{apiBase}{gameInfo}{stringify}').content\n",
    "    # add a short sleep so API doesn't throttle - we aren't making that makny calls\n",
    "    time.sleep(5)\n",
    "    return response"
   ]
  },
  {
   "cell_type": "code",
   "execution_count": 45,
   "metadata": {},
   "outputs": [],
   "source": [
    "def listify_game_metadata(apiResponse):\n",
    "    \"\"\"The parses the game metadata XML into a list of lists for import\"\"\"\n",
    "    gameMetadata = []\n",
    "    gameCategories = []\n",
    "    gameMechanisms = []\n",
    "    importDate = datetime.datetime.strftime(datetime.datetime.now().date(), '%Y-%m-%d')\n",
    "\n",
    "    # game info\n",
    "    tree = ET.fromstring(apiResponse)\n",
    "\n",
    "    # iterate through response top level 'item'\n",
    "    for item in tree.findall('item'):\n",
    "\n",
    "        # define metadata we want to collect since Type & Id are attributes at the top level we will set them here\n",
    "        itemType = item.attrib['type']\n",
    "        itemId = item.attrib['id']      \n",
    "        itemName = None                 \n",
    "        itemYearPublished = None                \n",
    "        itemMinPlayers = None           \n",
    "        itemMaxPlayers = None           \n",
    "        itemPlayTime = None             \n",
    "        itemCategories = []\n",
    "        itemMechanisms = []\n",
    "        itemThumbnail = None\n",
    "        \n",
    "        # get itemName\n",
    "        names = item.findall('name')\n",
    "        for name in names:\n",
    "            if name.attrib['type'].lower() == 'primary':\n",
    "                name = name.attrib['value']\n",
    "                itemName = name\n",
    "        \n",
    "        # get itemYearPublished\n",
    "        publishedYear = item.find('yearpublished')\n",
    "        itemYearPublished = publishedYear.attrib['value']\n",
    "\n",
    "        # get itemMinPlayers\n",
    "        minPlayers = item.find('minplayers')\n",
    "        itemMinPlayers = minPlayers.attrib['value']\n",
    "\n",
    "        # get itemMaxPlayers\n",
    "        maxPlayers = item.find('maxplayers')\n",
    "        itemMaxPlayers = maxPlayers.attrib['value']\n",
    "\n",
    "        # get itemPlayingTime\n",
    "        playingTime = item.find('playingtime')\n",
    "        itemPlayTime = playingTime.attrib['value']\n",
    "\n",
    "        # get itemCategories\n",
    "        categories = item.findall('link')\n",
    "        for category in categories:\n",
    "            if 'categor' in category.attrib['type'].lower():\n",
    "                itemCategories.append(category.attrib['value'])\n",
    "\n",
    "        # get itemCategories\n",
    "        mechanisms = item.findall('link')\n",
    "        for mechanism in mechanisms:\n",
    "            if 'mechanic' in mechanism.attrib['type'].lower():\n",
    "                itemMechanisms.append(mechanism.attrib['value'])\n",
    "\n",
    "        # get itemThumbnail\n",
    "        thumbnail = item.find('thumbnail')\n",
    "        itemThumbnail = thumbnail.text\n",
    "\n",
    "        gameMetadata += tuple([(itemId, itemType, itemName, itemYearPublished, None, itemMinPlayers, itemMaxPlayers,\n",
    "                         itemPlayTime, itemThumbnail, importDate)])\n",
    "        \n",
    "        gameCategories += tuple([(itemId, x) for x in itemCategories])\n",
    "\n",
    "        gameMechanisms += tuple([(itemId, x) for x in itemMechanisms])\n",
    "        \n",
    "    #return [gameMetadata]\n",
    "    return [gameCategories]\n",
    "    #return [gameMechanisms]"
   ]
  },
  {
   "cell_type": "code",
   "execution_count": 46,
   "metadata": {},
   "outputs": [
    {
     "data": {
      "text/plain": [
       "[['174430', ('1', 'Negotiation')], ['161936', ('1', 'Negotiation')]]"
      ]
     },
     "execution_count": 46,
     "metadata": {},
     "output_type": "execute_result"
    }
   ],
   "source": [
    "\n",
    "idList= ['174430', '161936'] #'224517']\n",
    "categorylist=[]\n",
    "\n",
    "for a in idList:\n",
    "    response = get_game_metadata(str(a))\n",
    "    res=listify_game_metadata(response)\n",
    "    count=0\n",
    "    for i in res:\n",
    "        categorylist.append([a,res[count][1]])\n",
    "        count+=1\n",
    "        \n",
    "    \n",
    "\n",
    "    \n",
    "categorylist\n",
    "\n"
   ]
  },
  {
   "cell_type": "code",
   "execution_count": 48,
   "metadata": {},
   "outputs": [
    {
     "name": "stdout",
     "output_type": "stream",
     "text": [
      "[[('1', 'Economic'), ('1', 'Negotiation'), ('1', 'Political'), ('6', 'Civilization'), ('6', 'Nautical'), ('1', 'Economic'), ('1', 'Negotiation'), ('1', 'Political'), ('9', 'Exploration'), ('3', 'Abstract Strategy'), ('3', 'Medieval'), ('6', 'Civilization'), ('6', 'Nautical')]]\n"
     ]
    },
    {
     "data": {
      "text/plain": [
       "[['174430', 'Economic'],\n",
       " ['174430', 'Negotiation'],\n",
       " ['174430', 'Political'],\n",
       " ['174430', 'Abstract Strategy'],\n",
       " ['174430', 'Ancient'],\n",
       " ['174430', 'Ancient'],\n",
       " ['174430', 'Abstract Strategy'],\n",
       " ['174430', 'Medieval'],\n",
       " ['161936', 'Economic'],\n",
       " ['161936', 'Negotiation'],\n",
       " ['161936', 'Political'],\n",
       " ['161936', 'Civilization'],\n",
       " ['161936', 'Nautical'],\n",
       " ['161936', 'Economic'],\n",
       " ['161936', 'Negotiation'],\n",
       " ['161936', 'Political'],\n",
       " ['161936', 'Exploration'],\n",
       " ['161936', 'Abstract Strategy'],\n",
       " ['161936', 'Medieval'],\n",
       " ['161936', 'Civilization'],\n",
       " ['161936', 'Nautical']]"
      ]
     },
     "execution_count": 48,
     "metadata": {},
     "output_type": "execute_result"
    }
   ],
   "source": [
    "idList= ['174430', '161936']\n",
    "categorylist=[]\n",
    "for a in idList:\n",
    "    response = get_game_metadata(str(a))\n",
    "    res=listify_game_metadata(response)\n",
    "    for t in res[0]:\n",
    "        categorylist.append([a,t[1]])\n",
    "print(res)\n",
    "categorylist"
   ]
  },
  {
   "cell_type": "code",
   "execution_count": 6,
   "metadata": {},
   "outputs": [
    {
     "data": {
      "text/plain": [
       "list"
      ]
     },
     "execution_count": 6,
     "metadata": {},
     "output_type": "execute_result"
    }
   ],
   "source": [
    "type(listify)"
   ]
  },
  {
   "cell_type": "code",
   "execution_count": 51,
   "metadata": {},
   "outputs": [
    {
     "data": {
      "text/plain": [
       "<pandas.core.groupby.generic.DataFrameGroupBy object at 0x000001C6B051DDF0>"
      ]
     },
     "execution_count": 51,
     "metadata": {},
     "output_type": "execute_result"
    }
   ],
   "source": [
    "categories=pd.DataFrame(categorylist,columns=['1','2'])\n",
    "categories.groupby(['1'])"
   ]
  },
  {
   "cell_type": "code",
   "execution_count": null,
   "metadata": {},
   "outputs": [],
   "source": [
    "categories=pd.DataFrame(listify,columns=['1','2','3','4','5','6','7','8','9','10','11','12','13','14','15','16','17','18','19','20'])"
   ]
  },
  {
   "cell_type": "code",
   "execution_count": null,
   "metadata": {},
   "outputs": [],
   "source": [
    "categories"
   ]
  },
  {
   "cell_type": "code",
   "execution_count": null,
   "metadata": {},
   "outputs": [],
   "source": []
  }
 ],
 "metadata": {
  "kernelspec": {
   "display_name": "Python 3",
   "language": "python",
   "name": "python3"
  },
  "language_info": {
   "codemirror_mode": {
    "name": "ipython",
    "version": 3
   },
   "file_extension": ".py",
   "mimetype": "text/x-python",
   "name": "python",
   "nbconvert_exporter": "python",
   "pygments_lexer": "ipython3",
   "version": "3.8.5"
  }
 },
 "nbformat": 4,
 "nbformat_minor": 4
}
